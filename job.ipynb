{
  "cells": [
    {
      "cell_type": "code",
      "source": [
        "from azure.ai.ml import MLClient \n",
        "from azure.identity import DefaultAzureCredential \n",
        "\n",
        "# 로그인하여 작업 영역과 리소스 그룹을 구성해 보겠습니다.\n",
        "credential = DefaultAzureCredential() \n",
        "\n",
        "# 작업 영역에 대한 핸들을 가져옵니다. ml.azure.com의 작업 영역 탭에서 정보를 확인할 수 있습니다.\n",
        "ml_client = MLClient( \n",
        "    credential=credential, \n",
        "    subscription_id= \"ca3a7121-8c69-4769-a3c4-01dbafb3872d\" , \n",
        "    resource_group_name= \"Green-Hat\" , \n",
        "    workspace_name= \"greenhat-ai\" , \n",
        ")"
      ],
      "outputs": [
        {
          "output_type": "stream",
          "name": "stderr",
          "text": "Overriding of current TracerProvider is not allowed\nOverriding of current LoggerProvider is not allowed\nOverriding of current MeterProvider is not allowed\nAttempting to instrument while already instrumented\nAttempting to instrument while already instrumented\nAttempting to instrument while already instrumented\n"
        }
      ],
      "execution_count": 2,
      "metadata": {
        "gather": {
          "logged": 1752499481652
        }
      }
    },
    {
      "cell_type": "code",
      "source": [
        "# from azure.ai.ml.entities import Environment, BuildContext\n",
        "\n",
        "# env_docker_context = Environment(\n",
        "#     build=BuildContext(path=\"azureml-environment\"),\n",
        "#     name=\"yolov8-environment\",\n",
        "#     description=\"Environment created from a Docker context.\",\n",
        "# )\n",
        "# ml_client.environments.create_or_update(env_docker_context)"
      ],
      "outputs": [
        {
          "output_type": "execute_result",
          "execution_count": 2,
          "data": {
            "text/plain": "Environment({'arm_type': 'environment_version', 'latest_version': None, 'image': None, 'intellectual_property': None, 'is_anonymous': False, 'auto_increment_version': False, 'auto_delete_setting': None, 'name': 'yolov8-environment', 'description': 'Environment created from a Docker context.', 'tags': {}, 'properties': {'azureml.labels': 'latest'}, 'print_as_yaml': False, 'id': '/subscriptions/ca3a7121-8c69-4769-a3c4-01dbafb3872d/resourceGroups/Green-Hat/providers/Microsoft.MachineLearningServices/workspaces/greenhat-ai/environments/yolov8-environment/versions/5', 'Resource__source_path': '', 'base_path': '/mnt/batch/tasks/shared/LS_root/mounts/clusters/greenhat-ai/code/Users/gbsa014/training-code', 'creation_context': <azure.ai.ml.entities._system_data.SystemData object at 0x7a27d52d5630>, 'serialize': <msrest.serialization.Serializer object at 0x7a27d5291b10>, 'version': '5', 'conda_file': None, 'build': <azure.ai.ml.entities._assets.environment.BuildContext object at 0x7a27d52d73a0>, 'inference_config': None, 'os_type': 'Linux', 'conda_file_path': None, 'path': None, 'datastore': None, 'upload_hash': None, 'translated_conda_file': None})"
          },
          "metadata": {}
        }
      ],
      "execution_count": 2,
      "metadata": {
        "gather": {
          "logged": 1752201022199
        }
      }
    },
    {
      "cell_type": "code",
      "source": [
        "# from pathlib import Path\n",
        "# from azure.ai.ml import command, Input\n",
        "\n",
        "# job = command(\n",
        "#     inputs=dict(\n",
        "#         training_data=Input(\n",
        "#             type=\"uri_folder\",\n",
        "#             path=\"azureml:safety_helmet_yolov8_dataset:1\"\n",
        "#         ),\n",
        "#         model_to_train=Input(\n",
        "#             type=\"custom_model\",\n",
        "#             path=\"yolov8n.pt\"\n",
        "#         )\n",
        "#     ),\n",
        "#     code=Path(\".\"),  # <-- 여기 핵심 수정\n",
        "#     command=\"\"\"\n",
        "#         sed -i \"s|path:.*$|path: ${{ inputs.training_data }}|\" data.yaml &&\n",
        "#         python train.py  ${{ inputs.model_to_train }}\n",
        "#     \"\"\",\n",
        "#     environment=\"azureml:yolov8-environment:2\",  # 최신 버전\n",
        "#     compute=\"greenhat-ai-cluster\",\n",
        "#     display_name=\"helmet-yolov8-training\",\n",
        "#     experiment_name=\"helmet-detection-exp\",\n",
        "#     description=\"YOLOv8 helmet training job\"\n",
        "# )\n",
        "\n",
        "# ml_client.jobs.create_or_update(job)\n"
      ],
      "outputs": [
        {
          "output_type": "execute_result",
          "execution_count": 22,
          "data": {
            "text/plain": "Command({'parameters': {}, 'init': False, 'name': 'helpful_malanga_pybz019nb0', 'type': 'command', 'status': 'Starting', 'log_files': None, 'description': 'YOLOv8 helmet training job', 'tags': {}, 'properties': {'_azureml.ComputeTargetType': 'amlctrain', '_azureml.ClusterName': 'greenhat-ai-cluster', 'ContentSnapshotId': '9a0df639-36ff-4a04-8ca5-22feaa39d532'}, 'print_as_yaml': False, 'id': '/subscriptions/ca3a7121-8c69-4769-a3c4-01dbafb3872d/resourceGroups/Green-Hat/providers/Microsoft.MachineLearningServices/workspaces/greenhat-ai/jobs/helpful_malanga_pybz019nb0', 'Resource__source_path': '', 'base_path': '/mnt/batch/tasks/shared/LS_root/mounts/clusters/greenhat-ai/code/Users/gbsa014/training-code', 'creation_context': <azure.ai.ml.entities._system_data.SystemData object at 0x723fa47d29b0>, 'serialize': <msrest.serialization.Serializer object at 0x723fa47d0ac0>, 'allowed_keys': {}, 'key_restriction': False, 'logger': <Logger attr_dict (WARNING)>, 'display_name': 'helmet-yolov8-training', 'experiment_name': 'helmet-detection-exp', 'compute': 'greenhat-ai-cluster', 'services': {'Tracking': {'endpoint': 'azureml://koreacentral.api.azureml.ms/mlflow/v1.0/subscriptions/ca3a7121-8c69-4769-a3c4-01dbafb3872d/resourceGroups/Green-Hat/providers/Microsoft.MachineLearningServices/workspaces/greenhat-ai?', 'type': 'Tracking'}, 'Studio': {'endpoint': 'https://ml.azure.com/runs/helpful_malanga_pybz019nb0?wsid=/subscriptions/ca3a7121-8c69-4769-a3c4-01dbafb3872d/resourcegroups/Green-Hat/workspaces/greenhat-ai&tid=696194d0-1265-469b-8a62-1cffb9237deb', 'type': 'Studio'}}, 'comment': None, 'job_inputs': {'training_data': {'type': 'uri_folder', 'path': 'safety_helmet_yolov8_dataset:1', 'mode': 'ro_mount'}, 'model_to_train': {'type': 'custom_model', 'path': 'azureml://datastores/workspaceblobstore/paths/LocalUpload/87038cca5ff36337ba2716112ba5a44960deb8ef7780523b361af588ea0cef7d/yolov8n.pt', 'mode': 'ro_mount'}}, 'job_outputs': {'default': {'type': 'uri_folder', 'path': 'azureml://datastores/workspaceartifactstore/ExperimentRun/dcid.helpful_malanga_pybz019nb0', 'mode': 'rw_mount'}}, 'inputs': {'training_data': <azure.ai.ml.entities._job.pipeline._io.base.NodeInput object at 0x723fa47d1210>, 'model_to_train': <azure.ai.ml.entities._job.pipeline._io.base.NodeInput object at 0x723fa47d0790>}, 'outputs': {'default': <azure.ai.ml.entities._job.pipeline._io.base.NodeOutput object at 0x723fa47d3a60>}, 'component': CommandComponent({'latest_version': None, 'intellectual_property': None, 'auto_increment_version': True, 'source': 'REMOTE.WORKSPACE.JOB', 'is_anonymous': False, 'auto_delete_setting': None, 'name': 'helpful_malanga_pybz019nb0', 'description': 'YOLOv8 helmet training job', 'tags': {}, 'properties': {}, 'print_as_yaml': False, 'id': None, 'Resource__source_path': None, 'base_path': '/mnt/batch/tasks/shared/LS_root/mounts/clusters/greenhat-ai/code/Users/gbsa014/training-code', 'creation_context': <azure.ai.ml.entities._system_data.SystemData object at 0x723fa47d29b0>, 'serialize': <msrest.serialization.Serializer object at 0x723fa47d1db0>, 'command': '\\n        sed -i \"s|path:.*$|path: ${{ inputs.training_data }}|\" data.yaml &&\\n        python train.py  ${{ inputs.model_to_train }}\\n    ', 'code': '/subscriptions/ca3a7121-8c69-4769-a3c4-01dbafb3872d/resourceGroups/Green-Hat/providers/Microsoft.MachineLearningServices/workspaces/greenhat-ai/codes/f0115e17-1d2e-4566-8e5f-23277b3d712f/versions/1', 'environment_variables': {}, 'environment': '/subscriptions/ca3a7121-8c69-4769-a3c4-01dbafb3872d/resourceGroups/Green-Hat/providers/Microsoft.MachineLearningServices/workspaces/greenhat-ai/environments/yolov8-environment/versions/2', 'distribution': None, 'resources': None, 'queue_settings': None, 'version': None, 'schema': None, 'type': 'command', 'display_name': 'helmet-yolov8-training', 'is_deterministic': True, 'inputs': {'training_data': {'type': 'uri_folder', 'path': '/subscriptions/ca3a7121-8c69-4769-a3c4-01dbafb3872d/resourceGroups/Green-Hat/providers/Microsoft.MachineLearningServices/workspaces/greenhat-ai/data/safety_helmet_yolov8_dataset/versions/1', 'mode': 'ro_mount'}, 'model_to_train': {'type': 'custom_model', 'path': 'azureml://datastores/workspaceblobstore/paths/LocalUpload/87038cca5ff36337ba2716112ba5a44960deb8ef7780523b361af588ea0cef7d/yolov8n.pt', 'mode': 'ro_mount'}}, 'outputs': {'default': {'type': 'uri_folder', 'path': 'azureml://datastores/workspaceartifactstore/ExperimentRun/dcid.helpful_malanga_pybz019nb0', 'mode': 'rw_mount'}}, 'yaml_str': None, 'other_parameter': {'status': 'Starting', 'parameters': {}}, 'additional_includes': []}), 'referenced_control_flow_node_instance_id': None, 'kwargs': {'services': {'Tracking': {'endpoint': 'azureml://koreacentral.api.azureml.ms/mlflow/v1.0/subscriptions/ca3a7121-8c69-4769-a3c4-01dbafb3872d/resourceGroups/Green-Hat/providers/Microsoft.MachineLearningServices/workspaces/greenhat-ai?', 'type': 'Tracking'}, 'Studio': {'endpoint': 'https://ml.azure.com/runs/helpful_malanga_pybz019nb0?wsid=/subscriptions/ca3a7121-8c69-4769-a3c4-01dbafb3872d/resourcegroups/Green-Hat/workspaces/greenhat-ai&tid=696194d0-1265-469b-8a62-1cffb9237deb', 'type': 'Studio'}}, 'status': 'Starting', 'creation_context': <azure.ai.ml.entities._system_data.SystemData object at 0x723fa47d29b0>}, 'instance_id': 'ee7613db-88d1-4adb-a917-eace12bb8041', 'source': 'BUILDER', 'validate_required_input_not_provided': True, 'limits': None, 'identity': None, 'distribution': None, 'environment_variables': {}, 'environment': 'yolov8-environment:2', 'resources': {'instance_count': 1, 'shm_size': '2g'}, 'queue_settings': {'job_tier': 'null'}, 'parent_job_name': None, 'swept': False})",
            "text/html": "<table style=\"width:100%\"><tr><th>Experiment</th><th>Name</th><th>Type</th><th>Status</th><th>Details Page</th></tr><tr><td>helmet-detection-exp</td><td>helpful_malanga_pybz019nb0</td><td>command</td><td>Starting</td><td><a href=\"https://ml.azure.com/runs/helpful_malanga_pybz019nb0?wsid=/subscriptions/ca3a7121-8c69-4769-a3c4-01dbafb3872d/resourcegroups/Green-Hat/workspaces/greenhat-ai&amp;tid=696194d0-1265-469b-8a62-1cffb9237deb\" target=\"_blank\" rel=\"noopener\">Link to Azure Machine Learning studio</a></td></tr></table>"
          },
          "metadata": {}
        }
      ],
      "execution_count": 22,
      "metadata": {
        "gather": {
          "logged": 1752122222397
        }
      }
    },
    {
      "cell_type": "code",
      "source": [
        "# !wget https://github.com/ultralytics/assets/releases/download/v0.0.0/yolov8s.pt"
      ],
      "outputs": [],
      "execution_count": null,
      "metadata": {}
    },
    {
      "cell_type": "code",
      "source": [
        "from azure.ai.ml import command, Input\n",
        "from pathlib import Path\n",
        "\n",
        "job = command(\n",
        "    inputs=dict(\n",
        "        training_data=Input(\n",
        "            type=\"uri_folder\",\n",
        "            path=\"azureml:safety_helmet_yolov8_dataset:1\"\n",
        "        ),\n",
        "        model_to_train=Input(\n",
        "            type=\"uri_file\",  # ← 반드시 수정\n",
        "            path=\"yolov8n.pt\"\n",
        "        )\n",
        "    ),\n",
        "    code=Path(\".\"),  # train.py가 있는 디렉토리\n",
        "    command=\"\"\"\n",
        "        python train.py ${{ inputs.model_to_train }} ${{ inputs.training_data }}\n",
        "    \"\"\",\n",
        "    environment=\"azureml:yolov8-environment:6\",\n",
        "    compute=\"greenhat-ai-cluster\",\n",
        "    display_name=\"helmet-yolov8-training\",\n",
        "    experiment_name=\"helmet-detection-exp\",\n",
        "    description=\"YOLOv8 helmet training job\"\n",
        ")\n",
        "\n",
        "\n",
        "ml_client.jobs.create_or_update(job)\n"
      ],
      "outputs": [
        {
          "output_type": "stream",
          "name": "stderr",
          "text": "Uploading training-code (29.13 MBs): 100%|██████████| 29130650/29130650 [00:00<00:00, 102342054.70it/s]\n\n\n"
        },
        {
          "output_type": "execute_result",
          "execution_count": 8,
          "data": {
            "text/plain": "Command({'parameters': {}, 'init': False, 'name': 'nifty_leek_lzrb7ksvcm', 'type': 'command', 'status': 'Starting', 'log_files': None, 'description': 'YOLOv8 helmet training job', 'tags': {}, 'properties': {'_azureml.ComputeTargetType': 'amlctrain', '_azureml.ClusterName': 'greenhat-ai-cluster', 'ContentSnapshotId': '77cb7408-b4a7-49c4-8781-8d0a442286b6'}, 'print_as_yaml': False, 'id': '/subscriptions/ca3a7121-8c69-4769-a3c4-01dbafb3872d/resourceGroups/Green-Hat/providers/Microsoft.MachineLearningServices/workspaces/greenhat-ai/jobs/nifty_leek_lzrb7ksvcm', 'Resource__source_path': '', 'base_path': '/mnt/batch/tasks/shared/LS_root/mounts/clusters/greenhat-ai/code/Users/gbsa014/training-code', 'creation_context': <azure.ai.ml.entities._system_data.SystemData object at 0x749b3d789060>, 'serialize': <msrest.serialization.Serializer object at 0x749b3ea7dea0>, 'allowed_keys': {}, 'key_restriction': False, 'logger': <Logger attr_dict (WARNING)>, 'display_name': 'helmet-yolov8-training', 'experiment_name': 'helmet-detection-exp', 'compute': 'greenhat-ai-cluster', 'services': {'Tracking': {'endpoint': 'azureml://koreacentral.api.azureml.ms/mlflow/v1.0/subscriptions/ca3a7121-8c69-4769-a3c4-01dbafb3872d/resourceGroups/Green-Hat/providers/Microsoft.MachineLearningServices/workspaces/greenhat-ai?', 'type': 'Tracking'}, 'Studio': {'endpoint': 'https://ml.azure.com/runs/nifty_leek_lzrb7ksvcm?wsid=/subscriptions/ca3a7121-8c69-4769-a3c4-01dbafb3872d/resourcegroups/Green-Hat/workspaces/greenhat-ai&tid=696194d0-1265-469b-8a62-1cffb9237deb', 'type': 'Studio'}}, 'comment': None, 'job_inputs': {'training_data': {'type': 'uri_folder', 'path': 'safety_helmet_yolov8_dataset:1', 'mode': 'ro_mount'}, 'model_to_train': {'type': 'uri_file', 'path': 'azureml://datastores/workspaceblobstore/paths/LocalUpload/87038cca5ff36337ba2716112ba5a44960deb8ef7780523b361af588ea0cef7d/yolov8n.pt', 'mode': 'ro_mount'}}, 'job_outputs': {'default': {'type': 'uri_folder', 'path': 'azureml://datastores/workspaceartifactstore/ExperimentRun/dcid.nifty_leek_lzrb7ksvcm', 'mode': 'rw_mount'}}, 'inputs': {'training_data': <azure.ai.ml.entities._job.pipeline._io.base.NodeInput object at 0x749b3ea7c8b0>, 'model_to_train': <azure.ai.ml.entities._job.pipeline._io.base.NodeInput object at 0x749b3ea7cd90>}, 'outputs': {'default': <azure.ai.ml.entities._job.pipeline._io.base.NodeOutput object at 0x749b3ec38f10>}, 'component': CommandComponent({'latest_version': None, 'intellectual_property': None, 'auto_increment_version': True, 'source': 'REMOTE.WORKSPACE.JOB', 'is_anonymous': False, 'auto_delete_setting': None, 'name': 'nifty_leek_lzrb7ksvcm', 'description': 'YOLOv8 helmet training job', 'tags': {}, 'properties': {}, 'print_as_yaml': False, 'id': None, 'Resource__source_path': None, 'base_path': '/mnt/batch/tasks/shared/LS_root/mounts/clusters/greenhat-ai/code/Users/gbsa014/training-code', 'creation_context': <azure.ai.ml.entities._system_data.SystemData object at 0x749b3d789060>, 'serialize': <msrest.serialization.Serializer object at 0x749b3ea7fd30>, 'command': '\\n        python train.py ${{ inputs.model_to_train }} ${{ inputs.training_data }}\\n    ', 'code': '/subscriptions/ca3a7121-8c69-4769-a3c4-01dbafb3872d/resourceGroups/Green-Hat/providers/Microsoft.MachineLearningServices/workspaces/greenhat-ai/codes/52602b92-cd4b-4ee8-b335-eaa83eef3efb/versions/1', 'environment_variables': {}, 'environment': '/subscriptions/ca3a7121-8c69-4769-a3c4-01dbafb3872d/resourceGroups/Green-Hat/providers/Microsoft.MachineLearningServices/workspaces/greenhat-ai/environments/yolov8-environment/versions/6', 'distribution': None, 'resources': None, 'queue_settings': None, 'version': None, 'schema': None, 'type': 'command', 'display_name': 'helmet-yolov8-training', 'is_deterministic': True, 'inputs': {'training_data': {'type': 'uri_folder', 'path': '/subscriptions/ca3a7121-8c69-4769-a3c4-01dbafb3872d/resourceGroups/Green-Hat/providers/Microsoft.MachineLearningServices/workspaces/greenhat-ai/data/safety_helmet_yolov8_dataset/versions/1', 'mode': 'ro_mount'}, 'model_to_train': {'type': 'uri_file', 'path': 'azureml://datastores/workspaceblobstore/paths/LocalUpload/87038cca5ff36337ba2716112ba5a44960deb8ef7780523b361af588ea0cef7d/yolov8n.pt', 'mode': 'ro_mount'}}, 'outputs': {'default': {'type': 'uri_folder', 'path': 'azureml://datastores/workspaceartifactstore/ExperimentRun/dcid.nifty_leek_lzrb7ksvcm', 'mode': 'rw_mount'}}, 'yaml_str': None, 'other_parameter': {'status': 'Starting', 'parameters': {}}, 'additional_includes': []}), 'referenced_control_flow_node_instance_id': None, 'kwargs': {'services': {'Tracking': {'endpoint': 'azureml://koreacentral.api.azureml.ms/mlflow/v1.0/subscriptions/ca3a7121-8c69-4769-a3c4-01dbafb3872d/resourceGroups/Green-Hat/providers/Microsoft.MachineLearningServices/workspaces/greenhat-ai?', 'type': 'Tracking'}, 'Studio': {'endpoint': 'https://ml.azure.com/runs/nifty_leek_lzrb7ksvcm?wsid=/subscriptions/ca3a7121-8c69-4769-a3c4-01dbafb3872d/resourcegroups/Green-Hat/workspaces/greenhat-ai&tid=696194d0-1265-469b-8a62-1cffb9237deb', 'type': 'Studio'}}, 'status': 'Starting', 'creation_context': <azure.ai.ml.entities._system_data.SystemData object at 0x749b3d789060>}, 'instance_id': '4f411313-30b9-4b08-9db8-ba5632147cd2', 'source': 'BUILDER', 'validate_required_input_not_provided': True, 'limits': None, 'identity': None, 'distribution': None, 'environment_variables': {}, 'environment': 'yolov8-environment:6', 'resources': {'instance_count': 1, 'shm_size': '2g'}, 'queue_settings': {'job_tier': 'null'}, 'parent_job_name': None, 'swept': False})",
            "text/html": "<table style=\"width:100%\"><tr><th>Experiment</th><th>Name</th><th>Type</th><th>Status</th><th>Details Page</th></tr><tr><td>helmet-detection-exp</td><td>nifty_leek_lzrb7ksvcm</td><td>command</td><td>Starting</td><td><a href=\"https://ml.azure.com/runs/nifty_leek_lzrb7ksvcm?wsid=/subscriptions/ca3a7121-8c69-4769-a3c4-01dbafb3872d/resourcegroups/Green-Hat/workspaces/greenhat-ai&amp;tid=696194d0-1265-469b-8a62-1cffb9237deb\" target=\"_blank\" rel=\"noopener\">Link to Azure Machine Learning studio</a></td></tr></table>"
          },
          "metadata": {}
        }
      ],
      "execution_count": 8,
      "metadata": {
        "gather": {
          "logged": 1752211558230
        }
      }
    },
    {
      "cell_type": "code",
      "source": [],
      "outputs": [],
      "execution_count": null,
      "metadata": {}
    },
    {
      "cell_type": "code",
      "source": [],
      "outputs": [],
      "execution_count": null,
      "metadata": {}
    },
    {
      "cell_type": "markdown",
      "source": [
        "# Job 제출 코드"
      ],
      "metadata": {
        "nteract": {
          "transient": {
            "deleting": false
          }
        }
      }
    },
    {
      "cell_type": "code",
      "source": [
        "# job_submit.py (or notebook cell)\n",
        "\n",
        "from azure.ai.ml import MLClient, command, Input\n",
        "from azure.ai.ml.entities import Environment, BuildContext\n",
        "from azure.identity import DefaultAzureCredential\n",
        "from pathlib import Path\n",
        "from datetime import datetime\n",
        "\n",
        "# [1] Azure ML 클라이언트\n",
        "credential = DefaultAzureCredential()\n",
        "ml_client = MLClient(\n",
        "    credential=credential,\n",
        "    subscription_id=\"ca3a7121-8c69-4769-a3c4-01dbafb3872d\",\n",
        "    resource_group_name=\"Green-Hat\",\n",
        "    workspace_name=\"greenhat-ai\"\n",
        ")\n",
        "\n",
        "# [2] 환경 재사용 또는 새로 생성\n",
        "env_name = \"yolov8-environment\"\n",
        "try:\n",
        "    existing_env = ml_client.environments.get(name=env_name, label=\"latest\")\n",
        "    environment_version = existing_env.version\n",
        "    print(f\"[INFO] 기존 환경 재사용: {env_name}:{environment_version}\")\n",
        "except Exception:\n",
        "    print(\"[INFO] 기존 환경 없음. 새로 빌드합니다.\")\n",
        "    docker_env = Environment(\n",
        "        build=BuildContext(path=\"azureml-environment\"),\n",
        "        name=env_name,\n",
        "        description=\"YOLOv8 training with custom Docker\"\n",
        "    )\n",
        "    created_env = ml_client.environments.create_or_update(docker_env)\n",
        "    environment_version = created_env.version\n",
        "    print(f\"[INFO] 새 환경 빌드 완료: {env_name}:{environment_version}\")\n",
        "\n",
        "# [3] Job 정의 및 제출\n",
        "timestamp = datetime.now().strftime(\"%Y%m%d-%H%M\")\n",
        "\n",
        "job = command(\n",
        "    code=Path(\".\"),\n",
        "    command=\"python train.py ${{ inputs.model_to_train }} ${{ inputs.training_data }}\",\n",
        "    inputs={\n",
        "        \"model_to_train\": Input(type=\"uri_file\", path=\"yolov8n.pt\"),\n",
        "        \"training_data\": Input(type=\"uri_folder\", path=\"azureml:safety_helmet_yolov8_dataset:1\")\n",
        "    },\n",
        "    environment=f\"azureml:{env_name}:{environment_version}\",\n",
        "    compute=\"greenhat-ai-cluster\",\n",
        "    display_name=f\"yolov8n-train-{timestamp}\",\n",
        "    experiment_name=\"helmet-detection-exp\",\n",
        "    description=\"YOLOv8 training for helmet detection\"\n",
        ")\n",
        "\n",
        "returned_job = ml_client.jobs.create_or_update(job)\n",
        "print(f\"[INFO] Submitted Job: {returned_job.name}\")\n"
      ],
      "outputs": [
        {
          "output_type": "stream",
          "name": "stderr",
          "text": "Overriding of current TracerProvider is not allowed\nOverriding of current LoggerProvider is not allowed\nOverriding of current MeterProvider is not allowed\nAttempting to instrument while already instrumented\nAttempting to instrument while already instrumented\nAttempting to instrument while already instrumented\nUploading training-code (29.14 MBs): 100%|██████████| 29143153/29143153 [00:00<00:00, 79805468.69it/s]\n\n\n"
        },
        {
          "output_type": "stream",
          "name": "stdout",
          "text": "[INFO] 기존 환경 재사용: yolov8-environment:7\n[INFO] Submitted Job: serene_garlic_jff5j8nxtr\n"
        }
      ],
      "execution_count": 14,
      "metadata": {
        "gather": {
          "logged": 1752220555575
        }
      }
    },
    {
      "cell_type": "code",
      "source": [],
      "outputs": [],
      "execution_count": null,
      "metadata": {}
    },
    {
      "cell_type": "markdown",
      "source": [
        "## Sweep 적용"
      ],
      "metadata": {
        "nteract": {
          "transient": {
            "deleting": false
          }
        }
      }
    },
    {
      "cell_type": "code",
      "source": [
        "cluster = ml_client.compute.get(\"greenhat-ai-cluster\")\n",
        "print(cluster.id)  # 정확한 리소스 경로 확인 가능"
      ],
      "outputs": [
        {
          "output_type": "stream",
          "name": "stdout",
          "text": "/subscriptions/ca3a7121-8c69-4769-a3c4-01dbafb3872d/resourceGroups/Green-Hat/providers/Microsoft.MachineLearningServices/workspaces/greenhat-ai/computes/greenhat-ai-cluster\n"
        }
      ],
      "execution_count": 15,
      "metadata": {
        "gather": {
          "logged": 1752501796862
        }
      }
    },
    {
      "cell_type": "code",
      "source": [
        "dataset = ml_client.data.get(name=\"safety_helmet_yolov8_dataset\", version=\"1\")\n",
        "print(dataset.path)  # 실제 URI 경로가 나옴\n"
      ],
      "outputs": [
        {
          "output_type": "stream",
          "name": "stdout",
          "text": "azureml://subscriptions/ca3a7121-8c69-4769-a3c4-01dbafb3872d/resourcegroups/Green-Hat/workspaces/greenhat-ai/datastores/image_data/paths/Safety-Helmet-Wearing-Dataset.v3-base-dataset.yolov8/\n"
        }
      ],
      "execution_count": 18,
      "metadata": {
        "gather": {
          "logged": 1752502058712
        }
      }
    },
    {
      "cell_type": "code",
      "source": [
        "# sweep_submit.py\n",
        "\n",
        "from azure.ai.ml import MLClient, Input, sweep\n",
        "from azure.ai.ml.entities import CommandJob\n",
        "from azure.ai.ml.sweep import BayesianSamplingAlgorithm, Objective, SweepJob, SweepJobLimits\n",
        "from azure.identity import DefaultAzureCredential\n",
        "from azure.ai.ml.entities import Environment, BuildContext\n",
        "from azure.ai.ml.sweep import Uniform, Choice\n",
        "from azure.ai.ml import command\n",
        "from pathlib import Path\n",
        "from datetime import datetime\n",
        "\n",
        "# [1] Azure ML 클라이언트 설정\n",
        "credential = DefaultAzureCredential()\n",
        "ml_client = MLClient(\n",
        "    credential=credential,\n",
        "    subscription_id=\"ca3a7121-8c69-4769-a3c4-01dbafb3872d\",\n",
        "    resource_group_name=\"Green-Hat\",\n",
        "    workspace_name=\"greenhat-ai\"\n",
        ")\n",
        "\n",
        "# [2] 환경 재사용 또는 생성\n",
        "env_name = \"yolov8-environment\"\n",
        "try:\n",
        "    existing_env = ml_client.environments.get(name=env_name, label=\"latest\")\n",
        "    environment_version = existing_env.version\n",
        "    print(f\"[INFO] 기존 환경 재사용: {env_name}:{environment_version}\")\n",
        "except Exception:\n",
        "    print(\"[INFO] 기존 환경 없음. 새로 빌드합니다.\")\n",
        "    docker_env = Environment(\n",
        "        build=BuildContext(path=\"azureml-environment\"),\n",
        "        name=env_name,\n",
        "        description=\"YOLOv8 training with custom Docker\"\n",
        "    )\n",
        "    created_env = ml_client.environments.create_or_update(docker_env)\n",
        "    environment_version = created_env.version\n",
        "    print(f\"[INFO] 새 환경 빌드 완료: {env_name}:{environment_version}\")\n",
        "\n",
        "# [3] CommandJob 정의\n",
        "timestamp = datetime.now().strftime(\"%Y%m%d-%H%M\")\n",
        "command_job = CommandJob(\n",
        "    code=\"./\",  # train.py 위치\n",
        "    command=\"python train.py --dataset_path ${{inputs.training_data}} --lr0 ${{inputs.lr0}} --momentum ${{inputs.momentum}} --batch ${{inputs.batch}}\",\n",
        "    inputs={\n",
        "        \"training_data\": Input(\n",
        "            type=\"uri_folder\", \n",
        "            path=dataset.path),\n",
        "        \"lr0\": 0.001,\n",
        "        \"momentum\": 0.937,\n",
        "        \"batch\": 32\n",
        "    },\n",
        "    # compute=\"greenhat-ai-cluster\",\n",
        "    compute = \"/subscriptions/ca3a7121-8c69-4769-a3c4-01dbafb3872d/resourceGroups/Green-Hat/providers/Microsoft.MachineLearningServices/workspaces/greenhat-ai/computes/greenhat-ai-cluster\",\n",
        "    environment=f\"{env_name}:{environment_version}\",\n",
        "    display_name=f\"yolov8-sweep-base-{timestamp}\",\n",
        "    experiment_name=\"helmet-detection-exp\"\n",
        ")\n",
        "\n",
        "# [4] SweepJob 정의\n",
        "sweep_job = SweepJob(\n",
        "    trial=command_job,\n",
        "    sampling_algorithm=BayesianSamplingAlgorithm(),\n",
        "    search_space={\n",
        "        \"lr0\": Uniform(min_value=0.0005, max_value=0.01),\n",
        "        \"momentum\": Uniform(min_value=0.85, max_value=0.99),\n",
        "        \"batch\": Choice(values=[16, 32, 64]),\n",
        "    },\n",
        "    limits=SweepJobLimits(\n",
        "        max_total_trials=10,\n",
        "        max_concurrent_trials=3\n",
        "    ),\n",
        "    objective=Objective(\n",
        "        primary_metric=\"mAP50\",\n",
        "        goal=\"maximize\"\n",
        "    ),\n",
        "    display_name=f\"helmet-detection-sweep-{timestamp}\",\n",
        "    experiment_name=\"helmet-detection-exp\"\n",
        ")\n",
        "\n",
        "# [5] SweepJob 제출\n",
        "returned_job = ml_client.jobs.create_or_update(sweep_job)\n",
        "print(f\"[INFO] Sweep Job Submitted: {returned_job.name}\")\n"
      ],
      "outputs": [
        {
          "output_type": "stream",
          "name": "stderr",
          "text": "Overriding of current TracerProvider is not allowed\nOverriding of current LoggerProvider is not allowed\nOverriding of current MeterProvider is not allowed\nAttempting to instrument while already instrumented\nAttempting to instrument while already instrumented\nAttempting to instrument while already instrumented\n\u001b[32mUploading training-code (29.16 MBs): 100%|██████████| 29155419/29155419 [00:00<00:00, 98293928.85it/s] \n\u001b[39m\n\n"
        },
        {
          "output_type": "stream",
          "name": "stdout",
          "text": "[INFO] 기존 환경 재사용: yolov8-environment:7\n[INFO] Sweep Job Submitted: zen_yak_m2t212pt2d\n"
        }
      ],
      "execution_count": 21,
      "metadata": {
        "gather": {
          "logged": 1752503503525
        }
      }
    },
    {
      "cell_type": "code",
      "source": [],
      "outputs": [],
      "execution_count": null,
      "metadata": {}
    },
    {
      "cell_type": "markdown",
      "source": [
        "# 파이프라인 테스트"
      ],
      "metadata": {
        "nteract": {
          "transient": {
            "deleting": false
          }
        }
      }
    },
    {
      "cell_type": "code",
      "source": [
        "from azure.identity import DefaultAzureCredential\n",
        "from azure.ai.ml import MLClient, Input, Output, dsl, command\n",
        "from azure.ai.ml.dsl import pipeline\n",
        "from datetime import datetime\n",
        "from pathlib import Path\n",
        "\n",
        "# [1] MLClient 연결\n",
        "ml_client = MLClient(\n",
        "    credential=DefaultAzureCredential(),\n",
        "    subscription_id=\"ca3a7121-8c69-4769-a3c4-01dbafb3872d\",\n",
        "    resource_group_name=\"Green-Hat\",\n",
        "    workspace_name=\"greenhat-ai\"\n",
        ")\n",
        "\n",
        "# [2] DSL 파이프라인 정의\n",
        "@pipeline(name=\"yolov8-training-pipeline\", description=\"YOLOv8 training on helmet dataset\")\n",
        "def training_pipeline():\n",
        "    train_job = command(\n",
        "        name=\"yolov8-train-step\",\n",
        "        description=\"Train YOLOv8 with safety helmet dataset\",\n",
        "        code=Path(\".\"),  # train.py 위치\n",
        "        command=\"python train.py ${{inputs.model_to_train}} ${{inputs.training_data}}\",\n",
        "        inputs={\n",
        "            \"model_to_train\": Input(type=\"uri_file\", path=\"yolov8n.pt\"),\n",
        "            \"training_data\": Input(type=\"uri_folder\", path=\"azureml:safety_helmet_yolov8_dataset:1\")\n",
        "        },\n",
        "        outputs={\n",
        "            \"trained_model\": Output(type=\"uri_folder\", mode=\"rw_mount\")  # 반드시 명시\n",
        "        },\n",
        "        environment=\"azureml:yolov8-environment:latest\",\n",
        "        compute=\"greenhat-ai-cluster\",\n",
        "    )\n",
        "\n",
        "    # ⚠️ 파이프라인의 리턴에도 train_job.outputs를 반드시 포함\n",
        "    return {\n",
        "        \"trained_model\": train_job.outputs.trained_model\n",
        "    }\n",
        "\n",
        "# [3] 파이프라인 인스턴스 생성 및 제출\n",
        "pipeline_job = training_pipeline()\n",
        "pipeline_job.display_name = f\"yolov8-train-pipeline-{datetime.now().strftime('%Y%m%d-%H%M')}\"\n",
        "pipeline_job.experiment_name = \"helmet-detection-exp\"\n",
        "\n",
        "returned_pipeline_job = ml_client.jobs.create_or_update(pipeline_job)\n",
        "print(f\"[INFO] Submitted Pipeline Job: {returned_pipeline_job.name}\")\n"
      ],
      "outputs": [
        {
          "output_type": "stream",
          "name": "stderr",
          "text": "Overriding of current TracerProvider is not allowed\nOverriding of current LoggerProvider is not allowed\nOverriding of current MeterProvider is not allowed\nAttempting to instrument while already instrumented\nAttempting to instrument while already instrumented\nAttempting to instrument while already instrumented\npathOnCompute is not a known attribute of class <class 'azure.ai.ml._restclient.v2023_04_01_preview.models._models_py3.UriFolderJobOutput'> and will be ignored\n"
        },
        {
          "output_type": "stream",
          "name": "stdout",
          "text": "[INFO] Submitted Pipeline Job: sleepy_malanga_mwqn74spj8\n"
        }
      ],
      "execution_count": 10,
      "metadata": {
        "gather": {
          "logged": 1752474358386
        }
      }
    },
    {
      "cell_type": "code",
      "source": [],
      "outputs": [],
      "execution_count": null,
      "metadata": {}
    },
    {
      "cell_type": "code",
      "source": [],
      "outputs": [],
      "execution_count": null,
      "metadata": {}
    },
    {
      "cell_type": "code",
      "source": [
        "from azure.ai.ml import dsl, command, Input, Output, MLClient\n",
        "from azure.ai.ml.entities import Environment, BuildContext\n",
        "from azure.identity import DefaultAzureCredential\n",
        "from datetime import datetime\n",
        "from pathlib import Path\n",
        "\n",
        "# [1] MLClient 설정\n",
        "ml_client = MLClient(\n",
        "    credential=DefaultAzureCredential(),\n",
        "    subscription_id=\"ca3a7121-8c69-4769-a3c4-01dbafb3872d\",\n",
        "    resource_group_name=\"Green-Hat\",\n",
        "    workspace_name=\"greenhat-ai\"\n",
        ")\n",
        "\n",
        "# [2] YOLOv8 환경 재사용 or 새로 생성\n",
        "env_name = \"yolov8-environment\"\n",
        "try:\n",
        "    existing_env = ml_client.environments.get(name=env_name, label=\"latest\")\n",
        "    environment_version = existing_env.version\n",
        "    print(f\"[INFO] 기존 환경 재사용: {env_name}:{environment_version}\")\n",
        "except Exception:\n",
        "    print(\"[INFO] 기존 환경 없음. 새로 빌드합니다.\")\n",
        "    docker_env = Environment(\n",
        "        build=BuildContext(path=\"azureml-environment\"),  # Dockerfile 있는 경로\n",
        "        name=env_name,\n",
        "        description=\"YOLOv8 training with custom Docker\"\n",
        "    )\n",
        "    created_env = ml_client.environments.create_or_update(docker_env)\n",
        "    environment_version = created_env.version\n",
        "    print(f\"[INFO] 새 환경 빌드 완료: {env_name}:{environment_version}\")\n",
        "\n",
        "# [3] DSL 파이프라인 정의\n",
        "@dsl.pipeline(\n",
        "    compute=\"greenhat-ai-cluster\",\n",
        "    description=\"Pipeline for debugging with YOLOv8 environment\"\n",
        ")\n",
        "def debug_pipeline():\n",
        "    train_step = command(\n",
        "        name=\"debug-step\",\n",
        "        display_name=\"Debug Step\",\n",
        "        command=\"echo 'This is a debug step.'\",\n",
        "        code=Path(\".\"),  # 현재 경로\n",
        "        environment=f\"azureml:{env_name}:{environment_version}\",\n",
        "        compute=\"greenhat-ai-cluster\",\n",
        "        outputs={\n",
        "            \"dummy_output\": Output(type=\"uri_folder\", mode=\"rw_mount\")\n",
        "        }\n",
        "    )\n",
        "    return {\n",
        "        \"output\": train_step.outputs.dummy_output\n",
        "    }\n",
        "\n",
        "# [4] 파이프라인 인스턴스 생성 및 제출\n",
        "pipeline_instance = debug_pipeline()\n",
        "pipeline_instance.display_name = f\"debug-pipeline-{datetime.now().strftime('%Y%m%d-%H%M')}\"\n",
        "pipeline_instance.experiment_name = \"debug-env-exp\"\n",
        "\n",
        "submitted_job = ml_client.jobs.create_or_update(pipeline_instance)\n",
        "print(f\"[INFO] Pipeline Job Submitted: {submitted_job.name}\")\n"
      ],
      "outputs": [
        {
          "output_type": "stream",
          "name": "stderr",
          "text": "Overriding of current TracerProvider is not allowed\nOverriding of current LoggerProvider is not allowed\nOverriding of current MeterProvider is not allowed\nAttempting to instrument while already instrumented\nAttempting to instrument while already instrumented\nAttempting to instrument while already instrumented\npathOnCompute is not a known attribute of class <class 'azure.ai.ml._restclient.v2023_04_01_preview.models._models_py3.UriFolderJobOutput'> and will be ignored\n"
        },
        {
          "output_type": "stream",
          "name": "stdout",
          "text": "[INFO] 기존 환경 재사용: yolov8-environment:7\n[INFO] Pipeline Job Submitted: bubbly_line_f8dlvqjfhy\n"
        }
      ],
      "execution_count": 10,
      "metadata": {
        "gather": {
          "logged": 1752546893145
        }
      }
    },
    {
      "cell_type": "code",
      "source": [],
      "outputs": [],
      "execution_count": null,
      "metadata": {}
    },
    {
      "cell_type": "code",
      "source": [],
      "outputs": [],
      "execution_count": null,
      "metadata": {}
    },
    {
      "cell_type": "code",
      "source": [],
      "outputs": [],
      "execution_count": null,
      "metadata": {}
    },
    {
      "cell_type": "code",
      "source": [],
      "outputs": [],
      "execution_count": null,
      "metadata": {}
    }
  ],
  "metadata": {
    "kernelspec": {
      "name": "python310-sdkv2",
      "language": "python",
      "display_name": "Python 3.10 - SDK v2"
    },
    "language_info": {
      "name": "python",
      "version": "3.10.18",
      "mimetype": "text/x-python",
      "codemirror_mode": {
        "name": "ipython",
        "version": 3
      },
      "pygments_lexer": "ipython3",
      "nbconvert_exporter": "python",
      "file_extension": ".py"
    },
    "microsoft": {
      "ms_spell_check": {
        "ms_spell_check_language": "en"
      },
      "host": {
        "AzureML": {
          "notebookHasBeenCompleted": true
        }
      }
    },
    "kernel_info": {
      "name": "python310-sdkv2"
    },
    "nteract": {
      "version": "nteract-front-end@1.0.0"
    }
  },
  "nbformat": 4,
  "nbformat_minor": 2
}